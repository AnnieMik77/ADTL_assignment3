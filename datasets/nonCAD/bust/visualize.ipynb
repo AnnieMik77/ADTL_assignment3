{
 "cells": [
  {
   "cell_type": "code",
   "execution_count": 15,
   "metadata": {},
   "outputs": [],
   "source": [
    "import sys\n",
    "import os\n",
    "sys.path.append('../../..')\n",
    "from util.mesh import Mesh\n",
    "import numpy as np"
   ]
  },
  {
   "cell_type": "code",
   "execution_count": 57,
   "metadata": {},
   "outputs": [],
   "source": [
    "sm_mesh = Mesh(\"bust_smooth.obj\", manifold=False)\n",
    "in_mesh = Mesh(\"bust_initial.obj\", manifold=False)"
   ]
  },
  {
   "cell_type": "code",
   "execution_count": 60,
   "metadata": {},
   "outputs": [],
   "source": [
    "clip = 2\n",
    "res = in_mesh.vs.copy() - sm_mesh.vs\n",
    "for i in range(3):\n",
    "    res_min, res_max = np.percentile(res[:, i], [clip, 100-clip])\n",
    "    res_clip = np.clip(res[:, i], res_min, res_max)\n",
    "    res[:, i] = (res_clip - res_min) / (res_max - res_min)\n",
    "in_mesh.vc = res\n",
    "in_mesh.save(\"res.obj\", color=True)"
   ]
  },
  {
   "cell_type": "code",
   "execution_count": 61,
   "metadata": {},
   "outputs": [],
   "source": [
    "res = in_mesh.vs.copy()\n",
    "for i in range(3):\n",
    "    res_min, res_max = np.percentile(res[:, i], [clip, 100-clip])\n",
    "    res_clip = np.clip(res[:, i], res_min, res_max)\n",
    "    res[:, i] = (res_clip - res_min) / (res_max - res_min)\n",
    "in_mesh.vc = res\n",
    "in_mesh.save(\"pos.obj\", color=True)"
   ]
  },
  {
   "cell_type": "code",
   "execution_count": 45,
   "metadata": {},
   "outputs": [
    {
     "data": {
      "text/plain": [
       "0.5590115799999993"
      ]
     },
     "execution_count": 45,
     "metadata": {},
     "output_type": "execute_result"
    }
   ],
   "source": [
    "res_max"
   ]
  },
  {
   "cell_type": "code",
   "execution_count": null,
   "metadata": {},
   "outputs": [],
   "source": []
  }
 ],
 "metadata": {
  "interpreter": {
   "hash": "c4e57273afef280981c6b24f3fc37dc2ee425af41a6673cf087e2580b060b20b"
  },
  "kernelspec": {
   "display_name": "Python 3.7.10 ('dmp')",
   "language": "python",
   "name": "python3"
  },
  "language_info": {
   "codemirror_mode": {
    "name": "ipython",
    "version": 3
   },
   "file_extension": ".py",
   "mimetype": "text/x-python",
   "name": "python",
   "nbconvert_exporter": "python",
   "pygments_lexer": "ipython3",
   "version": "3.7.10"
  },
  "orig_nbformat": 4
 },
 "nbformat": 4,
 "nbformat_minor": 2
}
